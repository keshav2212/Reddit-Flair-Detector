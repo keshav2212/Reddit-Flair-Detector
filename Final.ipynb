{
 "cells": [
  {
   "cell_type": "markdown",
   "metadata": {},
   "source": [
    "### Part I - Reddit Data Collection\n"
   ]
  },
  {
   "cell_type": "code",
   "execution_count": 7,
   "metadata": {},
   "outputs": [
    {
     "name": "stdout",
     "output_type": "stream",
     "text": [
      "File india.csv already exist!\n",
      "done\n"
     ]
    }
   ],
   "source": [
    "### import praw\n",
    "import datetime\n",
    "import csv\n",
    "import praw\n",
    "import os\n",
    "from pathlib import Path\n",
    "\n",
    "from sklearn.feature_extraction.text import CountVectorizer\n",
    "from sklearn.feature_extraction.text import HashingVectorizer\n",
    "\n",
    "#subreddit name list\n",
    "sub_name = ['india']\n",
    "\n",
    "#number of post to retrieve\n",
    "post_num = 250\n",
    "\n",
    "#OAuth credentials from reddit account\n",
    "reddit = praw.Reddit(\n",
    "                     client_id='hDIJdjc2k5VzTA',\n",
    "                     client_secret='fT9JnoUGAUAqDipudbAZ1XgeLFM',\n",
    "                     username='HelloWorld13211',\n",
    "                     password='Qwerty@123',\n",
    "                     user_agent='web scrapper'\n",
    "                     )\n",
    "\n",
    "#writing retrieved list of posts into csv\n",
    "def write_csv(to_csv, csv_name):\n",
    "    try:\n",
    "        with open(csv_name, 'w', newline='', encoding='utf-8') as file:\n",
    "            writer = csv.writer(file)\n",
    "            writer.writerows(to_csv)\n",
    "            file.close()\n",
    "    except Exception as e:\n",
    "        print(e)\n",
    "\n",
    "#retrieve post from reddit ~ duh\n",
    "def retrieve_post(sub,post_number,csv_name):\n",
    "    subreddit = reddit.subreddit(sub)\n",
    "    sub_hot = subreddit.hot(limit=post_number)\n",
    "    to_csv = [['flair_name','title']]\n",
    "    \n",
    "    print('Scrapping {}...'.format(sub))\n",
    "    try:\n",
    "        for post in sub_hot:\n",
    "            if not post.stickied:\n",
    "                retrieved = [\n",
    "                            post.link_flair_text,\n",
    "                            post.title,\n",
    "                            ]\n",
    "                \n",
    "                to_csv.append(retrieved)\n",
    "               \n",
    "        write_csv(to_csv, csv_name)\n",
    "    except Exception as e:\n",
    "        print(e)\n",
    "\n",
    "for sub in sub_name:\n",
    "    #Note: The csv file names are saved in {subreddit name}_yyyymmdd.csv format\n",
    "    csv_name = '{}.csv'.format(sub)\n",
    "    #csv path\n",
    "    csv_file = Path(csv_name)\n",
    "\n",
    "    #check if csv file already exist to prevent overwriting before retrieving post from reddit\n",
    "    if csv_file.exists():\n",
    "        print('File {} already exist!'.format(csv_name))\n",
    "    else:\n",
    "        retrieve_post(sub,post_num,csv_name)\n",
    "    print(\"done\")\n"
   ]
  },
  {
   "cell_type": "markdown",
   "metadata": {},
   "source": [
    "### Reading of CSV File & print the following\n"
   ]
  },
  {
   "cell_type": "code",
   "execution_count": 40,
   "metadata": {},
   "outputs": [
    {
     "data": {
      "text/html": [
       "<div>\n",
       "<style scoped>\n",
       "    .dataframe tbody tr th:only-of-type {\n",
       "        vertical-align: middle;\n",
       "    }\n",
       "\n",
       "    .dataframe tbody tr th {\n",
       "        vertical-align: top;\n",
       "    }\n",
       "\n",
       "    .dataframe thead th {\n",
       "        text-align: right;\n",
       "    }\n",
       "</style>\n",
       "<table border=\"1\" class=\"dataframe\">\n",
       "  <thead>\n",
       "    <tr style=\"text-align: right;\">\n",
       "      <th></th>\n",
       "      <th>flair_name</th>\n",
       "      <th>title</th>\n",
       "    </tr>\n",
       "  </thead>\n",
       "  <tbody>\n",
       "    <tr>\n",
       "      <th>0</th>\n",
       "      <td>Non-Political</td>\n",
       "      <td>To the 10 or so people who are gonna see this,...</td>\n",
       "    </tr>\n",
       "    <tr>\n",
       "      <th>1</th>\n",
       "      <td>Coronavirus</td>\n",
       "      <td>Tomorrow is one year anniversary of how bangin...</td>\n",
       "    </tr>\n",
       "    <tr>\n",
       "      <th>2</th>\n",
       "      <td>Culture &amp; Heritage</td>\n",
       "      <td>Muslims helped rebuild the Dasna temple that n...</td>\n",
       "    </tr>\n",
       "    <tr>\n",
       "      <th>3</th>\n",
       "      <td>Coronavirus</td>\n",
       "      <td>JUST IN | Uttarakhand Chief Minister Tirath Si...</td>\n",
       "    </tr>\n",
       "    <tr>\n",
       "      <th>4</th>\n",
       "      <td>Politics</td>\n",
       "      <td>BJP Workers Not Infected With Covid As They \"W...</td>\n",
       "    </tr>\n",
       "    <tr>\n",
       "      <th>...</th>\n",
       "      <td>...</td>\n",
       "      <td>...</td>\n",
       "    </tr>\n",
       "    <tr>\n",
       "      <th>243</th>\n",
       "      <td>Coronavirus</td>\n",
       "      <td>Why we can't compare Covid-19 vaccines?</td>\n",
       "    </tr>\n",
       "    <tr>\n",
       "      <th>244</th>\n",
       "      <td>Non-Political</td>\n",
       "      <td>India ranks 139 out of 149 countries in World ...</td>\n",
       "    </tr>\n",
       "    <tr>\n",
       "      <th>245</th>\n",
       "      <td>Politics</td>\n",
       "      <td>The farmers’ protest may grow into a second “t...</td>\n",
       "    </tr>\n",
       "    <tr>\n",
       "      <th>246</th>\n",
       "      <td>AskIndia</td>\n",
       "      <td>Why cant we just buy out the IP of Bharat Biot...</td>\n",
       "    </tr>\n",
       "    <tr>\n",
       "      <th>247</th>\n",
       "      <td>Politics</td>\n",
       "      <td>Madhya Pradesh: Is Anti-Conversion law Being U...</td>\n",
       "    </tr>\n",
       "  </tbody>\n",
       "</table>\n",
       "<p>248 rows × 2 columns</p>\n",
       "</div>"
      ],
      "text/plain": [
       "              flair_name                                              title\n",
       "0          Non-Political  To the 10 or so people who are gonna see this,...\n",
       "1            Coronavirus  Tomorrow is one year anniversary of how bangin...\n",
       "2    Culture & Heritage   Muslims helped rebuild the Dasna temple that n...\n",
       "3            Coronavirus  JUST IN | Uttarakhand Chief Minister Tirath Si...\n",
       "4               Politics  BJP Workers Not Infected With Covid As They \"W...\n",
       "..                   ...                                                ...\n",
       "243          Coronavirus            Why we can't compare Covid-19 vaccines?\n",
       "244        Non-Political  India ranks 139 out of 149 countries in World ...\n",
       "245             Politics  The farmers’ protest may grow into a second “t...\n",
       "246             AskIndia  Why cant we just buy out the IP of Bharat Biot...\n",
       "247             Politics  Madhya Pradesh: Is Anti-Conversion law Being U...\n",
       "\n",
       "[248 rows x 2 columns]"
      ]
     },
     "execution_count": 40,
     "metadata": {},
     "output_type": "execute_result"
    }
   ],
   "source": [
    "import numpy as np\n",
    "import pandas as pd\n",
    "df=pd.read_csv(\"india.csv\")\n",
    "df"
   ]
  },
  {
   "cell_type": "code",
   "execution_count": 41,
   "metadata": {},
   "outputs": [
    {
     "data": {
      "text/plain": [
       "Politics               69\n",
       "AskIndia               42\n",
       "Non-Political          40\n",
       "Coronavirus            19\n",
       "Law & Courts           17\n",
       "Foreign Relations      15\n",
       "Culture & Heritage     14\n",
       "History                 9\n",
       "Science/Technology      7\n",
       "Policy/Economy          7\n",
       "Business/Finance        3\n",
       "Art/Photo (OC)          3\n",
       "| Repost |              1\n",
       "Food                    1\n",
       "Name: flair_name, dtype: int64"
      ]
     },
     "execution_count": 41,
     "metadata": {},
     "output_type": "execute_result"
    }
   ],
   "source": [
    "df['flair_name'].value_counts()"
   ]
  },
  {
   "cell_type": "code",
   "execution_count": 44,
   "metadata": {},
   "outputs": [
    {
     "data": {
      "text/html": [
       "<div>\n",
       "<style scoped>\n",
       "    .dataframe tbody tr th:only-of-type {\n",
       "        vertical-align: middle;\n",
       "    }\n",
       "\n",
       "    .dataframe tbody tr th {\n",
       "        vertical-align: top;\n",
       "    }\n",
       "\n",
       "    .dataframe thead th {\n",
       "        text-align: right;\n",
       "    }\n",
       "</style>\n",
       "<table border=\"1\" class=\"dataframe\">\n",
       "  <thead>\n",
       "    <tr style=\"text-align: right;\">\n",
       "      <th></th>\n",
       "      <th>flair_name</th>\n",
       "      <th>title</th>\n",
       "      <th>flair</th>\n",
       "    </tr>\n",
       "  </thead>\n",
       "  <tbody>\n",
       "    <tr>\n",
       "      <th>0</th>\n",
       "      <td>Non-Political</td>\n",
       "      <td>To the 10 or so people who are gonna see this,...</td>\n",
       "      <td>9</td>\n",
       "    </tr>\n",
       "    <tr>\n",
       "      <th>1</th>\n",
       "      <td>Coronavirus</td>\n",
       "      <td>Tomorrow is one year anniversary of how bangin...</td>\n",
       "      <td>3</td>\n",
       "    </tr>\n",
       "    <tr>\n",
       "      <th>2</th>\n",
       "      <td>Culture &amp; Heritage</td>\n",
       "      <td>Muslims helped rebuild the Dasna temple that n...</td>\n",
       "      <td>4</td>\n",
       "    </tr>\n",
       "    <tr>\n",
       "      <th>3</th>\n",
       "      <td>Coronavirus</td>\n",
       "      <td>JUST IN | Uttarakhand Chief Minister Tirath Si...</td>\n",
       "      <td>3</td>\n",
       "    </tr>\n",
       "    <tr>\n",
       "      <th>4</th>\n",
       "      <td>Politics</td>\n",
       "      <td>BJP Workers Not Infected With Covid As They \"W...</td>\n",
       "      <td>11</td>\n",
       "    </tr>\n",
       "    <tr>\n",
       "      <th>...</th>\n",
       "      <td>...</td>\n",
       "      <td>...</td>\n",
       "      <td>...</td>\n",
       "    </tr>\n",
       "    <tr>\n",
       "      <th>243</th>\n",
       "      <td>Coronavirus</td>\n",
       "      <td>Why we can't compare Covid-19 vaccines?</td>\n",
       "      <td>3</td>\n",
       "    </tr>\n",
       "    <tr>\n",
       "      <th>244</th>\n",
       "      <td>Non-Political</td>\n",
       "      <td>India ranks 139 out of 149 countries in World ...</td>\n",
       "      <td>9</td>\n",
       "    </tr>\n",
       "    <tr>\n",
       "      <th>245</th>\n",
       "      <td>Politics</td>\n",
       "      <td>The farmers’ protest may grow into a second “t...</td>\n",
       "      <td>11</td>\n",
       "    </tr>\n",
       "    <tr>\n",
       "      <th>246</th>\n",
       "      <td>AskIndia</td>\n",
       "      <td>Why cant we just buy out the IP of Bharat Biot...</td>\n",
       "      <td>1</td>\n",
       "    </tr>\n",
       "    <tr>\n",
       "      <th>247</th>\n",
       "      <td>Politics</td>\n",
       "      <td>Madhya Pradesh: Is Anti-Conversion law Being U...</td>\n",
       "      <td>11</td>\n",
       "    </tr>\n",
       "  </tbody>\n",
       "</table>\n",
       "<p>248 rows × 3 columns</p>\n",
       "</div>"
      ],
      "text/plain": [
       "              flair_name                                              title  \\\n",
       "0          Non-Political  To the 10 or so people who are gonna see this,...   \n",
       "1            Coronavirus  Tomorrow is one year anniversary of how bangin...   \n",
       "2    Culture & Heritage   Muslims helped rebuild the Dasna temple that n...   \n",
       "3            Coronavirus  JUST IN | Uttarakhand Chief Minister Tirath Si...   \n",
       "4               Politics  BJP Workers Not Infected With Covid As They \"W...   \n",
       "..                   ...                                                ...   \n",
       "243          Coronavirus            Why we can't compare Covid-19 vaccines?   \n",
       "244        Non-Political  India ranks 139 out of 149 countries in World ...   \n",
       "245             Politics  The farmers’ protest may grow into a second “t...   \n",
       "246             AskIndia  Why cant we just buy out the IP of Bharat Biot...   \n",
       "247             Politics  Madhya Pradesh: Is Anti-Conversion law Being U...   \n",
       "\n",
       "     flair  \n",
       "0        9  \n",
       "1        3  \n",
       "2        4  \n",
       "3        3  \n",
       "4       11  \n",
       "..     ...  \n",
       "243      3  \n",
       "244      9  \n",
       "245     11  \n",
       "246      1  \n",
       "247     11  \n",
       "\n",
       "[248 rows x 3 columns]"
      ]
     },
     "execution_count": 44,
     "metadata": {},
     "output_type": "execute_result"
    }
   ],
   "source": [
    "df.flair_name=pd.Categorical(df.flair_name)\n",
    "df['flair']=df.flair_name.cat.codes\n",
    "df"
   ]
  },
  {
   "cell_type": "code",
   "execution_count": 56,
   "metadata": {},
   "outputs": [
    {
     "data": {
      "text/plain": [
       "{0: 'Art/Photo (OC)',\n",
       " 1: 'AskIndia',\n",
       " 2: 'Business/Finance',\n",
       " 3: 'Coronavirus',\n",
       " 4: 'Culture & Heritage ',\n",
       " 5: 'Food',\n",
       " 6: 'Foreign Relations',\n",
       " 7: 'History ',\n",
       " 8: 'Law & Courts',\n",
       " 9: 'Non-Political',\n",
       " 10: 'Policy/Economy',\n",
       " 11: 'Politics',\n",
       " 12: 'Science/Technology',\n",
       " 13: '| Repost |'}"
      ]
     },
     "execution_count": 56,
     "metadata": {},
     "output_type": "execute_result"
    }
   ],
   "source": [
    "dict(enumerate(df['flair_name'].cat.categories))"
   ]
  },
  {
   "cell_type": "markdown",
   "metadata": {},
   "source": [
    "### Part II- Exploratory Data Analysis\n",
    "This analysis is done on terms of graph."
   ]
  },
  {
   "cell_type": "markdown",
   "metadata": {},
   "source": [
    "The first graph describes the relation b/w each Flair_name and the no of posts.\n",
    "this means that how many Post of a particular Flair_name exists. "
   ]
  },
  {
   "cell_type": "code",
   "execution_count": 54,
   "metadata": {},
   "outputs": [
    {
     "data": {
      "text/plain": [
       "Politics               69\n",
       "AskIndia               42\n",
       "Non-Political          40\n",
       "Coronavirus            19\n",
       "Law & Courts           17\n",
       "Foreign Relations      15\n",
       "Culture & Heritage     14\n",
       "History                 9\n",
       "Science/Technology      7\n",
       "Policy/Economy          7\n",
       "Business/Finance        3\n",
       "Art/Photo (OC)          3\n",
       "| Repost |              1\n",
       "Food                    1\n",
       "Name: flair_name, dtype: int64"
      ]
     },
     "execution_count": 54,
     "metadata": {},
     "output_type": "execute_result"
    },
    {
     "data": {
      "image/png": "[encoded data removed]",
      "text/plain": [
       "<Figure size 720x720 with 1 Axes>"
      ]
     },
     "metadata": {
      "needs_background": "light"
     },
     "output_type": "display_data"
    }
   ],
   "source": [
    "import matplotlib.pyplot as plt\n",
    "flair_count = pd.value_counts(df.flair_name)\n",
    "plt.figure(figsize=(10,10))\n",
    "flair_count.plot(kind=\"bar\")\n",
    "flair_count"
   ]
  },
  {
   "cell_type": "markdown",
   "metadata": {},
   "source": [
    "This graph shows the occurance of the different word in the post_title."
   ]
  },
  {
   "cell_type": "code",
   "execution_count": 19,
   "metadata": {},
   "outputs": [
    {
     "data": {
      "text/plain": [
       "<matplotlib.lines.Line2D at 0x2a82e0be2e8>"
      ]
     },
     "execution_count": 19,
     "metadata": {},
     "output_type": "execute_result"
    },
    {
     "data": {
      "image/png": "[encoded data removed]",
      "text/plain": [
       "<Figure size 432x288 with 1 Axes>"
      ]
     },
     "metadata": {
      "needs_background": "light"
     },
     "output_type": "display_data"
    }
   ],
   "source": [
    "from sklearn.feature_extraction.text import TfidfVectorizer\n",
    "data_x=df.title\n",
    "data_y=df.flair\n",
    "cv=TfidfVectorizer(min_df=1)\n",
    "X=cv.fit_transform(data_x)\n",
    "Y=data_y.astype(int)\n",
    "plt.spy(X)"
   ]
  },
  {
   "cell_type": "markdown",
   "metadata": {},
   "source": [
    "### Part III - Flare Detector\n"
   ]
  },
  {
   "cell_type": "code",
   "execution_count": 20,
   "metadata": {},
   "outputs": [
    {
     "name": "stdout",
     "output_type": "stream",
     "text": [
      "Enter the title : India has several human rights issues, says US report\n"
     ]
    }
   ],
   "source": [
    "from sklearn.model_selection import train_test_split\n",
    "from sklearn.naive_bayes import MultinomialNB\n",
    "from sklearn.metrics import accuracy_score\n",
    "from sklearn.metrics import classification_report\n",
    "x_train,x_test,y_train,y_test=train_test_split(X,Y,test_size=0.25,random_state=4)\n",
    "mnb=MultinomialNB()\n",
    "mnb.fit(x_train,y_train)\n",
    "title=input(\"Enter the title : \")\n",
    "title=cv.transform([title])\n",
    "index=mnb.predict(title)\n",
    "index=int(index)\n",
    "result=df.flair_name.cat.categories[index]"
   ]
  },
  {
   "cell_type": "code",
   "execution_count": 21,
   "metadata": {},
   "outputs": [
    {
     "name": "stdout",
     "output_type": "stream",
     "text": [
      "Politics\n"
     ]
    }
   ],
   "source": [
    "print(result)"
   ]
  },
  {
   "cell_type": "code",
   "execution_count": 33,
   "metadata": {},
   "outputs": [],
   "source": [
    "import joblib"
   ]
  },
  {
   "cell_type": "code",
   "execution_count": 38,
   "metadata": {},
   "outputs": [
    {
     "data": {
      "text/plain": [
       "['transformer.pkl']"
      ]
     },
     "execution_count": 38,
     "metadata": {},
     "output_type": "execute_result"
    }
   ],
   "source": [
    "joblib.dump(cv,\"transformer.pkl\")"
   ]
  },
  {
   "cell_type": "code",
   "execution_count": 39,
   "metadata": {},
   "outputs": [
    {
     "data": {
      "text/plain": [
       "TfidfVectorizer()"
      ]
     },
     "execution_count": 39,
     "metadata": {},
     "output_type": "execute_result"
    }
   ],
   "source": [
    "joblib.load(\"transformer.pkl\")"
   ]
  },
  {
   "cell_type": "code",
   "execution_count": 37,
   "metadata": {},
   "outputs": [
    {
     "data": {
      "text/plain": [
       "['model.pkl']"
      ]
     },
     "execution_count": 37,
     "metadata": {},
     "output_type": "execute_result"
    }
   ],
   "source": [
    "joblib.dump(mnb,\"model.pkl\")"
   ]
  },
  {
   "cell_type": "code",
   "execution_count": null,
   "metadata": {},
   "outputs": [],
   "source": [
    "df"
   ]
  }
 ],
 "metadata": {
  "kernelspec": {
   "display_name": "Python 3",
   "language": "python",
   "name": "python3"
  },
  "language_info": {
   "codemirror_mode": {
    "name": "ipython",
    "version": 3
   },
   "file_extension": ".py",
   "mimetype": "text/x-python",
   "name": "python",
   "nbconvert_exporter": "python",
   "pygments_lexer": "ipython3",
   "version": "3.6.8"
  }
 },
 "nbformat": 4,
 "nbformat_minor": 4
}
