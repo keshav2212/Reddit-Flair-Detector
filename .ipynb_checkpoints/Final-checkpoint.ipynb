{
 "cells": [
  {
   "cell_type": "markdown",
   "metadata": {},
   "source": [
    "### Part I - Reddit Data Collection\n"
   ]
  },
  {
   "cell_type": "code",
   "execution_count": 7,
   "metadata": {},
   "outputs": [
    {
     "name": "stdout",
     "output_type": "stream",
     "text": [
      "File india.csv already exist!\n",
      "done\n"
     ]
    }
   ],
   "source": [
    "### import praw\n",
    "import datetime\n",
    "import csv\n",
    "import praw\n",
    "import os\n",
    "from pathlib import Path\n",
    "\n",
    "from sklearn.feature_extraction.text import CountVectorizer\n",
    "from sklearn.feature_extraction.text import HashingVectorizer\n",
    "\n",
    "#subreddit name list\n",
    "sub_name = ['india']\n",
    "\n",
    "#number of post to retrieve\n",
    "post_num = 250\n",
    "\n",
    "#OAuth credentials from reddit account\n",
    "reddit = praw.Reddit(\n",
    "                     client_id='hDIJdjc2k5VzTA',\n",
    "                     client_secret='fT9JnoUGAUAqDipudbAZ1XgeLFM',\n",
    "                     username='HelloWorld13211',\n",
    "                     password='Qwerty@123',\n",
    "                     user_agent='web scrapper'\n",
    "                     )\n",
    "\n",
    "#writing retrieved list of posts into csv\n",
    "def write_csv(to_csv, csv_name):\n",
    "    try:\n",
    "        with open(csv_name, 'w', newline='', encoding='utf-8') as file:\n",
    "            writer = csv.writer(file)\n",
    "            writer.writerows(to_csv)\n",
    "            file.close()\n",
    "    except Exception as e:\n",
    "        print(e)\n",
    "\n",
    "#retrieve post from reddit ~ duh\n",
    "def retrieve_post(sub,post_number,csv_name):\n",
    "    subreddit = reddit.subreddit(sub)\n",
    "    sub_hot = subreddit.hot(limit=post_number)\n",
    "    to_csv = [['flair_name','title']]\n",
    "    \n",
    "    print('Scrapping {}...'.format(sub))\n",
    "    try:\n",
    "        for post in sub_hot:\n",
    "            if not post.stickied:\n",
    "                retrieved = [\n",
    "                            post.link_flair_text,\n",
    "                            post.title,\n",
    "                            ]\n",
    "                \n",
    "                to_csv.append(retrieved)\n",
    "               \n",
    "        write_csv(to_csv, csv_name)\n",
    "    except Exception as e:\n",
    "        print(e)\n",
    "\n",
    "for sub in sub_name:\n",
    "    #Note: The csv file names are saved in {subreddit name}_yyyymmdd.csv format\n",
    "    csv_name = '{}.csv'.format(sub)\n",
    "    #csv path\n",
    "    csv_file = Path(csv_name)\n",
    "\n",
    "    #check if csv file already exist to prevent overwriting before retrieving post from reddit\n",
    "    if csv_file.exists():\n",
    "        print('File {} already exist!'.format(csv_name))\n",
    "    else:\n",
    "        retrieve_post(sub,post_num,csv_name)\n",
    "    print(\"done\")\n"
   ]
  },
  {
   "cell_type": "markdown",
   "metadata": {},
   "source": [
    "### Reading of CSV File & print the following\n"
   ]
  },
  {
   "cell_type": "code",
   "execution_count": 77,
   "metadata": {},
   "outputs": [
    {
     "data": {
      "text/html": [
       "<div>\n",
       "<style scoped>\n",
       "    .dataframe tbody tr th:only-of-type {\n",
       "        vertical-align: middle;\n",
       "    }\n",
       "\n",
       "    .dataframe tbody tr th {\n",
       "        vertical-align: top;\n",
       "    }\n",
       "\n",
       "    .dataframe thead th {\n",
       "        text-align: right;\n",
       "    }\n",
       "</style>\n",
       "<table border=\"1\" class=\"dataframe\">\n",
       "  <thead>\n",
       "    <tr style=\"text-align: right;\">\n",
       "      <th></th>\n",
       "      <th>flair_name</th>\n",
       "      <th>title</th>\n",
       "    </tr>\n",
       "  </thead>\n",
       "  <tbody>\n",
       "    <tr>\n",
       "      <th>0</th>\n",
       "      <td>Non-Political</td>\n",
       "      <td>To the 10 or so people who are gonna see this,...</td>\n",
       "    </tr>\n",
       "    <tr>\n",
       "      <th>1</th>\n",
       "      <td>Coronavirus</td>\n",
       "      <td>Tomorrow is one year anniversary of how bangin...</td>\n",
       "    </tr>\n",
       "    <tr>\n",
       "      <th>2</th>\n",
       "      <td>Culture &amp; Heritage</td>\n",
       "      <td>Muslims helped rebuild the Dasna temple that n...</td>\n",
       "    </tr>\n",
       "    <tr>\n",
       "      <th>3</th>\n",
       "      <td>Coronavirus</td>\n",
       "      <td>JUST IN | Uttarakhand Chief Minister Tirath Si...</td>\n",
       "    </tr>\n",
       "    <tr>\n",
       "      <th>4</th>\n",
       "      <td>Politics</td>\n",
       "      <td>BJP Workers Not Infected With Covid As They \"W...</td>\n",
       "    </tr>\n",
       "    <tr>\n",
       "      <th>...</th>\n",
       "      <td>...</td>\n",
       "      <td>...</td>\n",
       "    </tr>\n",
       "    <tr>\n",
       "      <th>491</th>\n",
       "      <td>Policy/Economy</td>\n",
       "      <td>India following U.S. trajectory in COVID-19 ca...</td>\n",
       "    </tr>\n",
       "    <tr>\n",
       "      <th>492</th>\n",
       "      <td>Non-Political</td>\n",
       "      <td>Making Illustrations of our Landmarks till the...</td>\n",
       "    </tr>\n",
       "    <tr>\n",
       "      <th>493</th>\n",
       "      <td>Coronavirus</td>\n",
       "      <td>Over 400 Iran returnees reach Kashmir, Ladakh ...</td>\n",
       "    </tr>\n",
       "    <tr>\n",
       "      <th>494</th>\n",
       "      <td>Politics</td>\n",
       "      <td>[Kesavananda Bhartai Case] Remembering Prof Co...</td>\n",
       "    </tr>\n",
       "    <tr>\n",
       "      <th>495</th>\n",
       "      <td>Non-Political</td>\n",
       "      <td>An aerial view of Gangaikonda Cholapuram Temple</td>\n",
       "    </tr>\n",
       "  </tbody>\n",
       "</table>\n",
       "<p>496 rows × 2 columns</p>\n",
       "</div>"
      ],
      "text/plain": [
       "              flair_name                                              title\n",
       "0          Non-Political  To the 10 or so people who are gonna see this,...\n",
       "1            Coronavirus  Tomorrow is one year anniversary of how bangin...\n",
       "2    Culture & Heritage   Muslims helped rebuild the Dasna temple that n...\n",
       "3            Coronavirus  JUST IN | Uttarakhand Chief Minister Tirath Si...\n",
       "4               Politics  BJP Workers Not Infected With Covid As They \"W...\n",
       "..                   ...                                                ...\n",
       "491       Policy/Economy  India following U.S. trajectory in COVID-19 ca...\n",
       "492        Non-Political  Making Illustrations of our Landmarks till the...\n",
       "493          Coronavirus  Over 400 Iran returnees reach Kashmir, Ladakh ...\n",
       "494             Politics  [Kesavananda Bhartai Case] Remembering Prof Co...\n",
       "495        Non-Political    An aerial view of Gangaikonda Cholapuram Temple\n",
       "\n",
       "[496 rows x 2 columns]"
      ]
     },
     "execution_count": 77,
     "metadata": {},
     "output_type": "execute_result"
    }
   ],
   "source": [
    "import numpy as np\n",
    "import pandas as pd\n",
    "import joblib\n",
    "df=pd.read_csv(\"india.csv\")\n",
    "df"
   ]
  },
  {
   "cell_type": "code",
   "execution_count": 78,
   "metadata": {},
   "outputs": [
    {
     "data": {
      "text/plain": [
       "Politics               116\n",
       "Coronavirus            108\n",
       "Non-Political           78\n",
       "AskIndia                67\n",
       "Policy/Economy          22\n",
       "Law & Courts            17\n",
       "Business/Finance        16\n",
       "Foreign Relations       15\n",
       "Culture & Heritage      14\n",
       "Science/Technology      11\n",
       "History                  9\n",
       "Food                     7\n",
       "Art/Photo (OC)           3\n",
       "CAA-NRC-NPR              2\n",
       "Scheduled                2\n",
       "Photography              2\n",
       "Sports                   1\n",
       "| Repost |               1\n",
       "TIL                      1\n",
       "Name: flair_name, dtype: int64"
      ]
     },
     "execution_count": 78,
     "metadata": {},
     "output_type": "execute_result"
    }
   ],
   "source": [
    "df['flair_name'].value_counts()"
   ]
  },
  {
   "cell_type": "code",
   "execution_count": 79,
   "metadata": {},
   "outputs": [
    {
     "data": {
      "text/html": [
       "<div>\n",
       "<style scoped>\n",
       "    .dataframe tbody tr th:only-of-type {\n",
       "        vertical-align: middle;\n",
       "    }\n",
       "\n",
       "    .dataframe tbody tr th {\n",
       "        vertical-align: top;\n",
       "    }\n",
       "\n",
       "    .dataframe thead th {\n",
       "        text-align: right;\n",
       "    }\n",
       "</style>\n",
       "<table border=\"1\" class=\"dataframe\">\n",
       "  <thead>\n",
       "    <tr style=\"text-align: right;\">\n",
       "      <th></th>\n",
       "      <th>flair_name</th>\n",
       "      <th>title</th>\n",
       "      <th>flair</th>\n",
       "    </tr>\n",
       "  </thead>\n",
       "  <tbody>\n",
       "    <tr>\n",
       "      <th>0</th>\n",
       "      <td>Non-Political</td>\n",
       "      <td>To the 10 or so people who are gonna see this,...</td>\n",
       "      <td>10</td>\n",
       "    </tr>\n",
       "    <tr>\n",
       "      <th>1</th>\n",
       "      <td>Coronavirus</td>\n",
       "      <td>Tomorrow is one year anniversary of how bangin...</td>\n",
       "      <td>4</td>\n",
       "    </tr>\n",
       "    <tr>\n",
       "      <th>2</th>\n",
       "      <td>Culture &amp; Heritage</td>\n",
       "      <td>Muslims helped rebuild the Dasna temple that n...</td>\n",
       "      <td>5</td>\n",
       "    </tr>\n",
       "    <tr>\n",
       "      <th>3</th>\n",
       "      <td>Coronavirus</td>\n",
       "      <td>JUST IN | Uttarakhand Chief Minister Tirath Si...</td>\n",
       "      <td>4</td>\n",
       "    </tr>\n",
       "    <tr>\n",
       "      <th>4</th>\n",
       "      <td>Politics</td>\n",
       "      <td>BJP Workers Not Infected With Covid As They \"W...</td>\n",
       "      <td>13</td>\n",
       "    </tr>\n",
       "    <tr>\n",
       "      <th>...</th>\n",
       "      <td>...</td>\n",
       "      <td>...</td>\n",
       "      <td>...</td>\n",
       "    </tr>\n",
       "    <tr>\n",
       "      <th>491</th>\n",
       "      <td>Policy/Economy</td>\n",
       "      <td>India following U.S. trajectory in COVID-19 ca...</td>\n",
       "      <td>12</td>\n",
       "    </tr>\n",
       "    <tr>\n",
       "      <th>492</th>\n",
       "      <td>Non-Political</td>\n",
       "      <td>Making Illustrations of our Landmarks till the...</td>\n",
       "      <td>10</td>\n",
       "    </tr>\n",
       "    <tr>\n",
       "      <th>493</th>\n",
       "      <td>Coronavirus</td>\n",
       "      <td>Over 400 Iran returnees reach Kashmir, Ladakh ...</td>\n",
       "      <td>4</td>\n",
       "    </tr>\n",
       "    <tr>\n",
       "      <th>494</th>\n",
       "      <td>Politics</td>\n",
       "      <td>[Kesavananda Bhartai Case] Remembering Prof Co...</td>\n",
       "      <td>13</td>\n",
       "    </tr>\n",
       "    <tr>\n",
       "      <th>495</th>\n",
       "      <td>Non-Political</td>\n",
       "      <td>An aerial view of Gangaikonda Cholapuram Temple</td>\n",
       "      <td>10</td>\n",
       "    </tr>\n",
       "  </tbody>\n",
       "</table>\n",
       "<p>496 rows × 3 columns</p>\n",
       "</div>"
      ],
      "text/plain": [
       "              flair_name                                              title  \\\n",
       "0          Non-Political  To the 10 or so people who are gonna see this,...   \n",
       "1            Coronavirus  Tomorrow is one year anniversary of how bangin...   \n",
       "2    Culture & Heritage   Muslims helped rebuild the Dasna temple that n...   \n",
       "3            Coronavirus  JUST IN | Uttarakhand Chief Minister Tirath Si...   \n",
       "4               Politics  BJP Workers Not Infected With Covid As They \"W...   \n",
       "..                   ...                                                ...   \n",
       "491       Policy/Economy  India following U.S. trajectory in COVID-19 ca...   \n",
       "492        Non-Political  Making Illustrations of our Landmarks till the...   \n",
       "493          Coronavirus  Over 400 Iran returnees reach Kashmir, Ladakh ...   \n",
       "494             Politics  [Kesavananda Bhartai Case] Remembering Prof Co...   \n",
       "495        Non-Political    An aerial view of Gangaikonda Cholapuram Temple   \n",
       "\n",
       "     flair  \n",
       "0       10  \n",
       "1        4  \n",
       "2        5  \n",
       "3        4  \n",
       "4       13  \n",
       "..     ...  \n",
       "491     12  \n",
       "492     10  \n",
       "493      4  \n",
       "494     13  \n",
       "495     10  \n",
       "\n",
       "[496 rows x 3 columns]"
      ]
     },
     "execution_count": 79,
     "metadata": {},
     "output_type": "execute_result"
    }
   ],
   "source": [
    "df.flair_name=pd.Categorical(df.flair_name)\n",
    "df['flair']=df.flair_name.cat.codes\n",
    "df"
   ]
  },
  {
   "cell_type": "code",
   "execution_count": 80,
   "metadata": {},
   "outputs": [
    {
     "data": {
      "text/plain": [
       "{0: 'Art/Photo (OC)',\n",
       " 1: 'AskIndia',\n",
       " 2: 'Business/Finance',\n",
       " 3: 'CAA-NRC-NPR',\n",
       " 4: 'Coronavirus',\n",
       " 5: 'Culture & Heritage ',\n",
       " 6: 'Food',\n",
       " 7: 'Foreign Relations',\n",
       " 8: 'History ',\n",
       " 9: 'Law & Courts',\n",
       " 10: 'Non-Political',\n",
       " 11: 'Photography',\n",
       " 12: 'Policy/Economy',\n",
       " 13: 'Politics',\n",
       " 14: 'Scheduled',\n",
       " 15: 'Science/Technology',\n",
       " 16: 'Sports',\n",
       " 17: 'TIL',\n",
       " 18: '| Repost |'}"
      ]
     },
     "execution_count": 80,
     "metadata": {},
     "output_type": "execute_result"
    }
   ],
   "source": [
    "categories=dict(enumerate(df['flair_name'].cat.categories))\n",
    "categories"
   ]
  },
  {
   "cell_type": "markdown",
   "metadata": {},
   "source": [
    "### Part II- Exploratory Data Analysis\n",
    "This analysis is done on terms of graph."
   ]
  },
  {
   "cell_type": "markdown",
   "metadata": {},
   "source": [
    "The first graph describes the relation b/w each Flair_name and the no of posts.\n",
    "this means that how many Post of a particular Flair_name exists. "
   ]
  },
  {
   "cell_type": "code",
   "execution_count": 81,
   "metadata": {},
   "outputs": [
    {
     "data": {
      "text/plain": [
       "Politics               116\n",
       "Coronavirus            108\n",
       "Non-Political           78\n",
       "AskIndia                67\n",
       "Policy/Economy          22\n",
       "Law & Courts            17\n",
       "Business/Finance        16\n",
       "Foreign Relations       15\n",
       "Culture & Heritage      14\n",
       "Science/Technology      11\n",
       "History                  9\n",
       "Food                     7\n",
       "Art/Photo (OC)           3\n",
       "Photography              2\n",
       "CAA-NRC-NPR              2\n",
       "Scheduled                2\n",
       "TIL                      1\n",
       "Sports                   1\n",
       "| Repost |               1\n",
       "Name: flair_name, dtype: int64"
      ]
     },
     "execution_count": 81,
     "metadata": {},
     "output_type": "execute_result"
    },
    {
     "data": {
      "image/png": "[encoded data removed]",
      "text/plain": [
       "<Figure size 720x720 with 1 Axes>"
      ]
     },
     "metadata": {
      "needs_background": "light"
     },
     "output_type": "display_data"
    }
   ],
   "source": [
    "import matplotlib.pyplot as plt\n",
    "flair_count = pd.value_counts(df.flair_name)\n",
    "plt.figure(figsize=(10,10))\n",
    "flair_count.plot(kind=\"bar\")\n",
    "flair_count"
   ]
  },
  {
   "cell_type": "markdown",
   "metadata": {},
   "source": [
    "This graph shows the occurance of the different word in the post_title."
   ]
  },
  {
   "cell_type": "code",
   "execution_count": 82,
   "metadata": {},
   "outputs": [
    {
     "data": {
      "text/plain": [
       "<matplotlib.lines.Line2D at 0x2a82ea97c18>"
      ]
     },
     "execution_count": 82,
     "metadata": {},
     "output_type": "execute_result"
    },
    {
     "data": {
      "image/png": "[encoded data removed]",
      "text/plain": [
       "<Figure size 432x288 with 1 Axes>"
      ]
     },
     "metadata": {
      "needs_background": "light"
     },
     "output_type": "display_data"
    }
   ],
   "source": [
    "from sklearn.feature_extraction.text import TfidfVectorizer\n",
    "data_x=df.title\n",
    "data_y=df.flair\n",
    "cv=TfidfVectorizer(min_df=1)\n",
    "X=cv.fit_transform(data_x)\n",
    "Y=data_y.astype(int)\n",
    "plt.spy(X)"
   ]
  },
  {
   "cell_type": "markdown",
   "metadata": {},
   "source": [
    "### Part III - Flare Detector\n"
   ]
  },
  {
   "cell_type": "code",
   "execution_count": 83,
   "metadata": {},
   "outputs": [
    {
     "name": "stdout",
     "output_type": "stream",
     "text": [
      "F1 Score :  0.24329797194643674\n",
      "Accuracy :  0.3629032258064516\n"
     ]
    }
   ],
   "source": [
    "from sklearn.model_selection import train_test_split\n",
    "from sklearn.naive_bayes import MultinomialNB\n",
    "from sklearn.metrics import accuracy_score,f1_score\n",
    "from sklearn.metrics import classification_report\n",
    "x_train,x_test,y_train,y_test=train_test_split(X,Y,test_size=0.25,random_state=4)\n",
    "mnb=MultinomialNB()\n",
    "mnb.fit(x_train,y_train)\n",
    "print(\"F1 Score : \",f1_score(y_test,mnb.predict(x_test),average=\"weighted\"))\n",
    "print(\"Accuracy : \",accuracy_score(y_test,mnb.predict(x_test)))"
   ]
  },
  {
   "cell_type": "code",
   "execution_count": 84,
   "metadata": {},
   "outputs": [
    {
     "data": {
      "text/plain": [
       "['model.pkl']"
      ]
     },
     "execution_count": 84,
     "metadata": {},
     "output_type": "execute_result"
    }
   ],
   "source": [
    "joblib.dump(categories,\"category.pkl\")\n",
    "joblib.dump(cv,\"transformer.pkl\")\n",
    "joblib.dump(mnb,\"model.pkl\")"
   ]
  },
  {
   "cell_type": "code",
   "execution_count": null,
   "metadata": {},
   "outputs": [],
   "source": []
  }
 ],
 "metadata": {
  "kernelspec": {
   "display_name": "Python 3",
   "language": "python",
   "name": "python3"
  },
  "language_info": {
   "codemirror_mode": {
    "name": "ipython",
    "version": 3
   },
   "file_extension": ".py",
   "mimetype": "text/x-python",
   "name": "python",
   "nbconvert_exporter": "python",
   "pygments_lexer": "ipython3",
   "version": "3.6.8"
  }
 },
 "nbformat": 4,
 "nbformat_minor": 4
}
