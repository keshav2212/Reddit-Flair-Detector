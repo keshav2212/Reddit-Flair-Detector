{
 "cells": [
  {
   "cell_type": "markdown",
   "metadata": {},
   "source": [
    "### Part I - Reddit Data Collection\n"
   ]
  },
  {
   "cell_type": "code",
   "execution_count": null,
   "metadata": {},
   "outputs": [],
   "source": [
    "### import praw\n",
    "import datetime\n",
    "import csv\n",
    "import praw\n",
    "import os\n",
    "from pathlib import Path\n",
    "\n",
    "from sklearn.feature_extraction.text import CountVectorizer\n",
    "from sklearn.feature_extraction.text import HashingVectorizer\n",
    "\n",
    "#subreddit name list\n",
    "sub_name = ['india']\n",
    "\n",
    "#number of post to retrieve\n",
    "post_num = 250\n",
    "\n",
    "#OAuth credentials from reddit account\n",
    "reddit = praw.Reddit(\n",
    "                     client_id='hDIJdjc2k5VzTA',\n",
    "                     client_secret='fT9JnoUGAUAqDipudbAZ1XgeLFM',\n",
    "                     username='HelloWorld13211',\n",
    "                     password='Qwerty@123',\n",
    "                     user_agent='web scrapper'\n",
    "                     )\n",
    "\n",
    "#writing retrieved list of posts into csv\n",
    "def write_csv(to_csv, csv_name):\n",
    "    try:\n",
    "        with open(csv_name, 'w', newline='', encoding='utf-8') as file:\n",
    "            writer = csv.writer(file)\n",
    "            writer.writerows(to_csv)\n",
    "            file.close()\n",
    "    except Exception as e:\n",
    "        print(e)\n",
    "\n",
    "#retrieve post from reddit ~ duh\n",
    "def retrieve_post(sub,post_number,csv_name):\n",
    "    subreddit = reddit.subreddit(sub)\n",
    "    sub_hot = subreddit.hot(limit=post_number)\n",
    "    to_csv = [['flair_name','title']]\n",
    "    \n",
    "    print('Scrapping {}...'.format(sub))\n",
    "    try:\n",
    "        for post in sub_hot:\n",
    "            if not post.stickied:\n",
    "                retrieved = [\n",
    "                            post.link_flair_text,\n",
    "                            post.title,\n",
    "                            ]\n",
    "                \n",
    "                to_csv.append(retrieved)\n",
    "               \n",
    "        write_csv(to_csv, csv_name)\n",
    "    except Exception as e:\n",
    "        print(e)\n",
    "\n",
    "for sub in sub_name:\n",
    "    #Note: The csv file names are saved in {subreddit name}_yyyymmdd.csv format\n",
    "    csv_name = '{}.csv'.format(sub)\n",
    "    #csv path\n",
    "    csv_file = Path(csv_name)\n",
    "\n",
    "    #check if csv file already exist to prevent overwriting before retrieving post from reddit\n",
    "    if csv_file.exists():\n",
    "        print('File {} already exist!'.format(csv_name))\n",
    "    else:\n",
    "        retrieve_post(sub,post_num,csv_name)\n",
    "    print(\"done\")\n"
   ]
  },
  {
   "cell_type": "markdown",
   "metadata": {},
   "source": [
    "### Reading of CSV File & print the following\n"
   ]
  },
  {
   "cell_type": "code",
   "execution_count": null,
   "metadata": {},
   "outputs": [],
   "source": [
    "import numpy as np\n",
    "import pandas as pd\n",
    "df=pd.read_csv(\"india.csv \")\n",
    "df.flair_name=pd.Categorical(df.flair_name)\n",
    "df['flair']=df.flair_name.cat.codes\n",
    "df"
   ]
  },
  {
   "cell_type": "markdown",
   "metadata": {},
   "source": [
    "### Part II- Exploratory Data Analysis\n",
    "This analysis is done on terms of graph."
   ]
  },
  {
   "cell_type": "markdown",
   "metadata": {},
   "source": [
    "The first graph describes the relation b/w each Flair_name and the no of posts.\n",
    "this means that how many Post of a particular Flair_name exists. "
   ]
  },
  {
   "cell_type": "code",
   "execution_count": null,
   "metadata": {},
   "outputs": [],
   "source": [
    "import matplotlib.pyplot as plt\n",
    "flair_count = pd.value_counts(df.flair_name)\n",
    "flair_count.plot(kind=\"bar\")\n",
    "flair_count"
   ]
  },
  {
   "cell_type": "markdown",
   "metadata": {},
   "source": [
    "This graph shows the occurance of the different word in the post_title."
   ]
  },
  {
   "cell_type": "code",
   "execution_count": null,
   "metadata": {},
   "outputs": [],
   "source": [
    "from sklearn.feature_extraction.text import TfidfVectorizer\n",
    "data_x=df.title\n",
    "data_y=df.flair\n",
    "cv=TfidfVectorizer(min_df=1)\n",
    "X=cv.fit_transform(data_x)\n",
    "Y=data_y.astype(int)\n",
    "plt.spy(X)"
   ]
  },
  {
   "cell_type": "markdown",
   "metadata": {},
   "source": [
    "### Part III - Flare Detector\n"
   ]
  },
  {
   "cell_type": "code",
   "execution_count": null,
   "metadata": {},
   "outputs": [],
   "source": [
    "from sklearn.model_selection import train_test_split\n",
    "from sklearn.naive_bayes import MultinomialNB\n",
    "from sklearn.metrics import accuracy_score\n",
    "from sklearn.metrics import classification_report\n",
    "x_train,x_test,y_train,y_test=train_test_split(X,Y,test_size=0.25,random_state=4)\n",
    "mnb=MultinomialNB()\n",
    "mnb.fit(x_train,y_train)\n",
    "title=input(\"Enter the title : \")\n",
    "title=cv.transform([title])\n",
    "index=mnb.predict(title)\n",
    "index=int(index)\n",
    "result=df.flair_name.cat.categories[index]"
   ]
  },
  {
   "cell_type": "markdown",
   "metadata": {},
   "source": [
    "### Performance of Classifier\n"
   ]
  },
  {
   "cell_type": "markdown",
   "metadata": {},
   "source": [
    "1)How well it works?\n",
    ":-The flare detector works very well and accurate.\n"
   ]
  },
  {
   "cell_type": "markdown",
   "metadata": {},
   "source": [
    "2)What is it good at?\n",
    ":-It is accurate in classifying the posts from the r/india through csv file.\n"
   ]
  },
  {
   "cell_type": "markdown",
   "metadata": {},
   "source": [
    "3)What is it bad at?\n",
    ":-When there is very huge imbalance dataset the classifier works but it is not so accurate. "
   ]
  },
  {
   "cell_type": "code",
   "execution_count": null,
   "metadata": {},
   "outputs": [],
   "source": []
  }
 ],
 "metadata": {
  "kernelspec": {
   "display_name": "Python 3",
   "language": "python",
   "name": "python3"
  },
  "language_info": {
   "codemirror_mode": {
    "name": "ipython",
    "version": 3
   },
   "file_extension": ".py",
   "mimetype": "text/x-python",
   "name": "python",
   "nbconvert_exporter": "python",
   "pygments_lexer": "ipython3",
   "version": "3.7.6"
  }
 },
 "nbformat": 4,
 "nbformat_minor": 4
}
